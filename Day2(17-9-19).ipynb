{
 "cells": [
  {
   "cell_type": "markdown",
   "metadata": {},
   "source": [
    "### Control Statements\n",
    "- conditional statements and selection statements\n",
    "    - if-else\n",
    "- iterational statements or loop statements\n",
    "    - for\n",
    "    - while\n",
    "    - do while\n",
    "    "
   ]
  },
  {
   "cell_type": "code",
   "execution_count": 2,
   "metadata": {},
   "outputs": [
    {
     "name": "stdout",
     "output_type": "stream",
     "text": [
      "2100\n",
      "not leap year\n"
     ]
    }
   ],
   "source": [
    "year = int(input(''))\n",
    "if year%400==0 or (year%100!=0 and year%4==0):\n",
    "    print('leap year')\n",
    "else:\n",
    "    \n",
    "    print('not leap year')"
   ]
  },
  {
   "cell_type": "markdown",
   "metadata": {},
   "source": [
    "## While loop"
   ]
  },
  {
   "cell_type": "code",
   "execution_count": 6,
   "metadata": {},
   "outputs": [
    {
     "name": "stdout",
     "output_type": "stream",
     "text": [
      "enter a number :10\n",
      "1 2 3 4 5 6 7 8 9 10 "
     ]
    }
   ],
   "source": [
    "# print number for 1 to N\n",
    "# input : 10\n",
    "# output : 1 2 3 . . . . N\n",
    "n = int(input('enter a number :'))\n",
    "i=1\n",
    "while i<=n :\n",
    "    print(i,end=\" \")\n",
    "    i=i+1"
   ]
  },
  {
   "cell_type": "code",
   "execution_count": 3,
   "metadata": {},
   "outputs": [
    {
     "name": "stdout",
     "output_type": "stream",
     "text": [
      "enter  a numer : 10\n",
      "sum= 30\n"
     ]
    }
   ],
   "source": [
    "# a number as an input\n",
    "# output as only evennumbers sum 1 to n\n",
    "n=int(input('enter  a numer : '))\n",
    "sum=0\n",
    "i=2\n",
    "while i<=n:\n",
    "    if i%2==0:\n",
    "        sum=sum+i\n",
    "    i=i+1    \n",
    "print('sum=',sum)"
   ]
  },
  {
   "cell_type": "code",
   "execution_count": 3,
   "metadata": {},
   "outputs": [
    {
     "name": "stdout",
     "output_type": "stream",
     "text": [
      "enter a number10\n",
      "0 1 no of digits = 2\n"
     ]
    }
   ],
   "source": [
    "# read a number as input \n",
    "# output digits of the number\n",
    "n=int(input('enter a number'))\n",
    "digit=0\n",
    "while n!=0:\n",
    "    print(n%10,end=' ')\n",
    "    n=n//10\n",
    "    digit=digit+1\n",
    "print('no of digits =',digit)    "
   ]
  },
  {
   "cell_type": "markdown",
   "metadata": {},
   "source": [
    "### Functional Programming\n",
    "- simple\n",
    "- easy understand\n",
    "- better reuseability\n",
    "- lengthy program will be divided into sub programs"
   ]
  },
  {
   "cell_type": "markdown",
   "metadata": {},
   "source": [
    "def nameofthefunction(<parameters>):\n",
    "    statements\n",
    "    return"
   ]
  },
  {
   "cell_type": "code",
   "execution_count": 2,
   "metadata": {},
   "outputs": [
    {
     "data": {
      "text/plain": [
       "6"
      ]
     },
     "execution_count": 2,
     "metadata": {},
     "output_type": "execute_result"
    }
   ],
   "source": [
    "# read a  number\n",
    "# print the even digit sum from the number\n",
    "\n",
    "# Input : 1234\n",
    "# output : 6 (2+4)\n",
    "def evenDigitSum(n):\n",
    "    s=0\n",
    "    while n != 0:\n",
    "        r=n%10\n",
    "        if r%2 ==0:\n",
    "            s=s+r\n",
    "        n = n//10\n",
    "    return s\n",
    "evenDigitSum(1234)\n"
   ]
  },
  {
   "cell_type": "code",
   "execution_count": null,
   "metadata": {},
   "outputs": [],
   "source": []
  },
  {
   "cell_type": "code",
   "execution_count": 1,
   "metadata": {},
   "outputs": [
    {
     "data": {
      "text/plain": [
       "6"
      ]
     },
     "execution_count": 1,
     "metadata": {},
     "output_type": "execute_result"
    }
   ],
   "source": [
    "def LargeDigit(n):\n",
    "    large=0\n",
    "    value=0\n",
    "    while n!=0:\n",
    "        value=n%10\n",
    "        if value > large:\n",
    "            large=value\n",
    "        n=n//10    \n",
    "    return large\n",
    "LargeDigit(123456)"
   ]
  },
  {
   "cell_type": "code",
   "execution_count": 7,
   "metadata": {},
   "outputs": [
    {
     "name": "stdout",
     "output_type": "stream",
     "text": [
      "yes\n"
     ]
    }
   ],
   "source": [
    "def factorial(r):\n",
    "    f=1\n",
    "    while r!=0:\n",
    "        f=f*r\n",
    "        r=r-1\n",
    "    return f\n",
    "def DigitFactorial(n):\n",
    "    r=0\n",
    "    s=0\n",
    "    p=n\n",
    "    while n!=0:\n",
    "        r=n%10\n",
    "        s=s+factorial(r)        \n",
    "        n=n//10    \n",
    "    if s==p:\n",
    "        print('yes')\n",
    "    else:\n",
    "        print('No')\n",
    "DigitFactorial(145)        "
   ]
  },
  {
   "cell_type": "code",
   "execution_count": 10,
   "metadata": {},
   "outputs": [
    {
     "name": "stdout",
     "output_type": "stream",
     "text": [
      "not palindrome\n",
      "palindrome\n"
     ]
    }
   ],
   "source": [
    "def reverse(n):\n",
    "    s=0\n",
    "    r=0\n",
    "    while n!=0:\n",
    "        r=n%10\n",
    "        s=s*10+r\n",
    "        n=n//10\n",
    "    return s\n",
    "def palindrome(n):\n",
    "    if n==reverse(n):\n",
    "        print('palindrome')\n",
    "    else:\n",
    "        print('not palindrome')\n",
    "palindrome(12311)        \n",
    "palindrome(12321)"
   ]
  },
  {
   "cell_type": "code",
   "execution_count": 13,
   "metadata": {},
   "outputs": [
    {
     "name": "stdout",
     "output_type": "stream",
     "text": [
      "11 12 13 14 15 16 17 18 19 20 21 22 23 24 25 "
     ]
    }
   ],
   "source": [
    "def printseries(lb,up):\n",
    "    for x in range(lb,up+1):\n",
    "        print(x,end=' ')\n",
    "    return\n",
    "printseries(11,25)"
   ]
  },
  {
   "cell_type": "code",
   "execution_count": 14,
   "metadata": {},
   "outputs": [
    {
     "name": "stdout",
     "output_type": "stream",
     "text": [
      "11 13 15 17 19 21 23 25 "
     ]
    }
   ],
   "source": [
    "# if we want to increment by 2 or any number\n",
    "def printseries(lb,up):\n",
    "    for x in range(lb,up+1,2):\n",
    "        print(x,end=' ')\n",
    "    return\n",
    "printseries(11,25)"
   ]
  }
 ],
 "metadata": {
  "kernelspec": {
   "display_name": "Python 3",
   "language": "python",
   "name": "python3"
  },
  "language_info": {
   "codemirror_mode": {
    "name": "ipython",
    "version": 3
   },
   "file_extension": ".py",
   "mimetype": "text/x-python",
   "name": "python",
   "nbconvert_exporter": "python",
   "pygments_lexer": "ipython3",
   "version": "3.7.3"
  }
 },
 "nbformat": 4,
 "nbformat_minor": 2
}
